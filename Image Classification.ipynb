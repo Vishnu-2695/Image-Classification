{
 "cells": [
  {
   "cell_type": "markdown",
   "id": "57eba448",
   "metadata": {},
   "source": [
    "# Image classification using PyTorch library\n",
    "\n",
    "A simple classification excercise to identify images of cats and dogs using PyTorch ans study it's various functionalities.\n",
    "The dataset is taken from kaggle which is contributed by sachin.\n",
    "There are a total of 12500 images of cats and dogs respectively."
   ]
  },
  {
   "cell_type": "code",
   "execution_count": 4,
   "id": "65d4eddc",
   "metadata": {},
   "outputs": [],
   "source": [
    "#Importing necessary libraries\n",
    "import pandas as pd\n",
    "import numpy as np\n",
    "import os\n",
    "import cv2\n",
    "import matplotlib.pyplot as plt\n",
    "import matplotlib.image as mpimg\n",
    "import torch\n",
    "from torch.utils.data import Dataset\n",
    "from PIL import Image\n",
    "import torchvision.transforms as transforms\n",
    "import torch.nn as nn\n",
    "import torch.nn.functional as F"
   ]
  },
  {
   "cell_type": "code",
   "execution_count": 5,
   "id": "fb0d6246",
   "metadata": {},
   "outputs": [
    {
     "data": {
      "image/png": "[encoded data removed]",
      "text/plain": [
       "<Figure size 432x288 with 1 Axes>"
      ]
     },
     "metadata": {
      "needs_background": "light"
     },
     "output_type": "display_data"
    },
    {
     "data": {
      "image/png": "[encoded data removed]",
      "text/plain": [
       "<Figure size 432x288 with 1 Axes>"
      ]
     },
     "metadata": {
      "needs_background": "light"
     },
     "output_type": "display_data"
    }
   ],
   "source": [
    "#Collecting desciptive stats of image dimensions\n",
    "\n",
    "width = []\n",
    "height = []\n",
    "file = os.listdir('data/cvd/PetImages/cats_and_dogs')\n",
    "folder = r'data\\cvd\\PetImages\\cats_and_dogs'\n",
    "for i in range(len(file)):\n",
    "    image_path = os.path.join(folder,file[i])\n",
    "    img = mpimg.imread(image_path)\n",
    "    width.append(img.shape[0])\n",
    "    height.append(img.shape[1])\n",
    "\n",
    "width_array = np.array(width)\n",
    "height_array = np.array(height)\n",
    "\n",
    "mean_width = np.mean(width_array)\n",
    "mean_height = np.mean(height_array)\n",
    "\n",
    "plt.hist(width_array,20,(50,550))\n",
    "plt.title('Width distribution')\n",
    "plt.show()\n",
    "\n",
    "plt.hist(height_array,20,(50,550))\n",
    "plt.title('Height distribution')\n",
    "\n",
    "plt.show()"
   ]
  },
  {
   "cell_type": "code",
   "execution_count": 6,
   "id": "60c2fdbd",
   "metadata": {},
   "outputs": [],
   "source": [
    "#Creating a custom dataset class that extends from torch.utils.data module\n",
    "class CatsandDogsDataset(Dataset):\n",
    "    def __init__(self,csv_file,root_dir,transform=None):\n",
    "        self.annotation = pd.read_csv(csv_file)\n",
    "        self.root_dir = root_dir\n",
    "        self.transform = transform\n",
    "    \n",
    "    def __len__(self):\n",
    "        return len(self.annotation)\n",
    "    \n",
    "    def __getitem__(self,index):\n",
    "        image_path = os.path.join(self.root_dir,self.annotation.iloc[index,0])\n",
    "        #image = io.imread(image_path)\n",
    "        image = Image.open(image_path)\n",
    "        y_label = torch.tensor(int(self.annotation.iloc[index,1]))\n",
    "        #f_name = self.annotation.iloc[index,0]\n",
    "        if self.transform:\n",
    "            image = self.transform(image)\n",
    "        \n",
    "        return (image,y_label)#,f_name)"
   ]
  },
  {
   "cell_type": "code",
   "execution_count": 7,
   "id": "b5821d20",
   "metadata": {},
   "outputs": [],
   "source": [
    "#A subset of 2990 images are used for training and testing the network\n",
    "dataset = CatsandDogsDataset(\n",
    "    csv_file='/pytorch/data/cvd/PetImages/labels2.csv',\n",
    "    root_dir='/pytorch/data/cvd/PetImages/cats_and_dogs',\n",
    "    transform = transforms.Compose([\n",
    "        transforms.Resize((224,224)),\n",
    "        transforms.ToTensor()]))"
   ]
  },
  {
   "cell_type": "code",
   "execution_count": null,
   "id": "52e38a36",
   "metadata": {},
   "outputs": [],
   "source": [
    "#Loop to check if all images have R,G,B layers. Some images considered had faulty dimensions.\n",
    "#These were eventually deleted based on names of files displayed by the below loop\n",
    "for image,label,f_name in dataset:\n",
    "  if image.shape[0] != 3:\n",
    "    print(image.shape,label,f_name)"
   ]
  },
  {
   "cell_type": "code",
   "execution_count": 9,
   "id": "0a5afe67",
   "metadata": {},
   "outputs": [],
   "source": [
    "train_set,val_set = torch.utils.data.random_split(dataset,[2900,90])"
   ]
  },
  {
   "cell_type": "code",
   "execution_count": 10,
   "id": "7c1e888a",
   "metadata": {},
   "outputs": [],
   "source": [
    "#Creating a loader object from the split dataset.This function wraps an iterable over the dataset object\n",
    "train_loader = torch.utils.data.DataLoader(train_set,batch_size=32,shuffle=True)\n",
    "val_loader = torch.utils.data.DataLoader(val_set,batch_size=32,shuffle=True)"
   ]
  },
  {
   "cell_type": "code",
   "execution_count": 11,
   "id": "286ce4d4",
   "metadata": {},
   "outputs": [],
   "source": [
    "#importing a pretrained Alexnet network which is provided by PyTorch\n",
    "import torchvision.models as models\n",
    "model = models.alexnet(pretrained=True)"
   ]
  },
  {
   "cell_type": "code",
   "execution_count": 12,
   "id": "1eb044f0",
   "metadata": {},
   "outputs": [],
   "source": [
    "#Freezing parameters of the sequential part called 'features' \n",
    "for params in model.features.parameters():\n",
    "  params.requires_grad = False"
   ]
  },
  {
   "cell_type": "code",
   "execution_count": 13,
   "id": "310262d4",
   "metadata": {},
   "outputs": [],
   "source": [
    "#Modifying the layers of the classifier part to output only 2 class labels as need for this task\n",
    "model.classifier = nn.Sequential(\n",
    "    nn.Linear(9216,4096),\n",
    "    nn.ReLU(),\n",
    "    nn.Linear(4096,1024),\n",
    "    nn.ReLU(),\n",
    "    nn.Linear(1024,2)\n",
    ")"
   ]
  },
  {
   "cell_type": "code",
   "execution_count": 14,
   "id": "c023b916",
   "metadata": {},
   "outputs": [],
   "source": [
    "#Creating the loss condition and optimiser\n",
    "criterion = nn.CrossEntropyLoss()\n",
    "optimizer = torch.optim.Adam(model.parameters(),lr=0.001)"
   ]
  },
  {
   "cell_type": "code",
   "execution_count": 15,
   "id": "4b4ead1b",
   "metadata": {},
   "outputs": [
    {
     "name": "stdout",
     "output_type": "stream",
     "text": [
      "epoch:  0 batch:   30 [   960/2900] loss: 0.28822932 | accuracy:  73.646\n",
      "epoch:  0 batch:   60 [  1920/2900] loss: 0.34969041 | accuracy:  82.031\n",
      "epoch:  0 batch:   90 [  2880/2900] loss: 0.24607244 | accuracy:  84.479\n",
      "val --> epoch:  0 | loss: 0.46450332 | accuracy:  79.000\n",
      "epoch:  1 batch:   30 [   960/2900] loss: 0.25332367 | accuracy:  94.896\n",
      "epoch:  1 batch:   60 [  1920/2900] loss: 0.10097232 | accuracy:  94.427\n",
      "epoch:  1 batch:   90 [  2880/2900] loss: 0.20255177 | accuracy:  94.236\n",
      "epoch:  2 batch:   30 [   960/2900] loss: 0.03409335 | accuracy:  97.188\n",
      "epoch:  2 batch:   60 [  1920/2900] loss: 0.30338097 | accuracy:  96.823\n",
      "epoch:  2 batch:   90 [  2880/2900] loss: 0.11988381 | accuracy:  96.354\n",
      "val --> epoch:  2 | loss: 0.34854141 | accuracy:  85.000\n",
      "\n",
      "Duration: 439 seconds\n"
     ]
    }
   ],
   "source": [
    "#Setting up the training and validation loop\n",
    "import time\n",
    "start_time = time.time()\n",
    "\n",
    "epochs = 3\n",
    "train_losses = []\n",
    "train_correct = []\n",
    "\n",
    "for i in range(epochs):\n",
    "    trn_corr = 0\n",
    "    val_corr = 0\n",
    " \n",
    "    for b,(X_train,y_train) in enumerate(train_loader):\n",
    "        b += 1\n",
    "        optimizer.zero_grad()\n",
    "        #X, y = X_train.to(device), y_train.to(device) ---------TO be used when GPU is available\n",
    "        \n",
    "        y_pred = model(X_train)\n",
    "        loss = criterion(y_pred,y_train)\n",
    "        \n",
    "        predicted = torch.max(y_pred.data,1)[1]\n",
    "        batch_corr = (predicted == y_train).sum()\n",
    "        trn_corr += batch_corr\n",
    "        \n",
    "        loss.backward()\n",
    "        optimizer.step()\n",
    "        \n",
    "        if b%30 == 0:\n",
    "            print(f'epoch: {i:2} batch: {b:4} [{32*b:6}/2900] loss: {loss.item():10.8f} | accuracy: {trn_corr.item()*100/(32*b):7.3f}')\n",
    "            \n",
    "        train_losses.append(loss)\n",
    "        train_correct.append(trn_corr)\n",
    "        \n",
    "    if i%2 == 0:\n",
    "        for bat,(X_val,y_val) in enumerate(val_loader):\n",
    "            bat+=1\n",
    "            with torch.no_grad():\n",
    "                y_val_pred = model(X_val)\n",
    "                loss = criterion(y_val_pred,y_val)\n",
    "                    \n",
    "                predicted = torch.max(y_val_pred.data,1)[1]\n",
    "                batch_corr = (predicted == y_val).sum()\n",
    "                val_corr += batch_corr\n",
    "\n",
    "        print(f'val --> epoch: {i:2} | loss: {loss.item():10.8f} | accuracy: {val_corr*100/96:7.3f}')\n",
    "                    \n",
    "print(f'\\nDuration: {time.time() - start_time:.0f} seconds')\n",
    "            \n"
   ]
  },
  {
   "cell_type": "code",
   "execution_count": 16,
   "id": "daa0b36b",
   "metadata": {},
   "outputs": [],
   "source": [
    "testset = CatsandDogsDataset(\n",
    "    csv_file='/pytorch/data/cvd/PetImages/test_labels.csv',\n",
    "    root_dir='/pytorch/data/cvd/PetImages/test',\n",
    "    transform = transforms.Compose([\n",
    "        transforms.Resize((224,224)),\n",
    "        transforms.ToTensor()]))"
   ]
  },
  {
   "cell_type": "code",
   "execution_count": 17,
   "id": "d0ac0814",
   "metadata": {},
   "outputs": [],
   "source": [
    "test_loader = torch.utils.data.DataLoader(testset,batch_size=30,shuffle=True)"
   ]
  },
  {
   "cell_type": "code",
   "execution_count": 18,
   "id": "a26b7c53",
   "metadata": {},
   "outputs": [
    {
     "name": "stdout",
     "output_type": "stream",
     "text": [
      "tensor([0, 1, 0, 1, 0, 0, 1, 0, 1, 0, 1, 0, 1, 0, 0, 1, 0, 1, 0, 0, 1, 1, 0, 0,\n",
      "        0, 0, 1, 0, 1])\n"
     ]
    }
   ],
   "source": [
    "preds = []\n",
    "\n",
    "for b,(x_test,y_test) in enumerate(test_loader):\n",
    "    with torch.no_grad():\n",
    "    #X,y = x_test.to(device),y_test.to(device)\n",
    "        y_pred = model(x_test)\n",
    "        predicted = torch.max(y_pred.data,1)[1]\n",
    "        preds.append(predicted)\n",
    "        print(predicted)"
   ]
  },
  {
   "cell_type": "code",
   "execution_count": 19,
   "id": "ac1dd8b6",
   "metadata": {},
   "outputs": [],
   "source": [
    "test_corr = 0\n",
    "for i in range(len(y_test)):\n",
    "  if y_test[i].item() == preds[0][i].item():\n",
    "    test_corr+=1\n"
   ]
  },
  {
   "cell_type": "code",
   "execution_count": 20,
   "id": "5370b2ca",
   "metadata": {},
   "outputs": [
    {
     "name": "stdout",
     "output_type": "stream",
     "text": [
      "Test accuracy: 89.655\n",
      "Number of correct classifications:  26\n"
     ]
    }
   ],
   "source": [
    "print(f'Test accuracy: {test_corr*100/29:5.3f}')\n",
    "print(f'Number of correct classifications: {test_corr:3}')"
   ]
  },
  {
   "cell_type": "code",
   "execution_count": null,
   "id": "5e87bb3a",
   "metadata": {},
   "outputs": [],
   "source": []
  }
 ],
 "metadata": {
  "kernelspec": {
   "display_name": "Python 3",
   "language": "python",
   "name": "python3"
  },
  "language_info": {
   "codemirror_mode": {
    "name": "ipython",
    "version": 3
   },
   "file_extension": ".py",
   "mimetype": "text/x-python",
   "name": "python",
   "nbconvert_exporter": "python",
   "pygments_lexer": "ipython3",
   "version": "3.7.3"
  }
 },
 "nbformat": 4,
 "nbformat_minor": 5
}
